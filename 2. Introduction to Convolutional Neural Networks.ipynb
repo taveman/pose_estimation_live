{
 "nbformat": 4,
 "nbformat_minor": 0,
 "metadata": {
  "colab": {
   "name": "HPE_Part2.ipynb",
   "provenance": [],
   "toc_visible": true
  },
  "kernelspec": {
   "name": "python3",
   "language": "python",
   "display_name": "Python 3"
  },
  "accelerator": "GPU",
  "pycharm": {
   "stem_cell": {
    "cell_type": "raw",
    "source": [],
    "metadata": {
     "collapsed": false
    }
   }
  }
 },
 "cells": [
  {
   "cell_type": "markdown",
   "metadata": {
    "id": "wZhylE5NQ7ac",
    "colab_type": "text"
   },
   "source": [
    "# Human Pose Estimation - Part 2"
   ]
  },
  {
   "cell_type": "markdown",
   "metadata": {
    "id": "LYY0cmLFRC5C",
    "colab_type": "text"
   },
   "source": [
    "## Introduction to Convolutional Neural Networks - SVHN Image classifier"
   ]
  },
  {
   "cell_type": "code",
   "metadata": {
    "id": "ZZzgtmd9WNYj",
    "colab_type": "code",
    "outputId": "6b148cf3-4306-4634-fc59-9525ae4aad92",
    "executionInfo": {
     "status": "ok",
     "timestamp": 1571872423829,
     "user_tz": -120,
     "elapsed": 11341,
     "user": {
      "displayName": "Armin Kappeler",
      "photoUrl": "https://lh3.googleusercontent.com/a-/AAuE7mAyyBGgsBvPtaODx-Mv5MRaJbOgdYl36kNWREWd=s64",
      "userId": "01791136915511492320"
     }
    },
    "colab": {
     "base_uri": "https://localhost:8080/",
     "height": 459
    },
    "pycharm": {
     "is_executing": false
    }
   },
   "source": [
    "# Download SVHN Dataset\n",
    "\n",
    "# initialization\n",
    "%matplotlib inline\n",
    "import numpy as np\n",
    "from PIL import Image\n",
    "from scipy.io import loadmat\n",
    "from matplotlib.pyplot import imshow, show\n"
   ],
   "execution_count": 4,
   "outputs": []
  },
  {
   "cell_type": "code",
   "execution_count": null,
   "outputs": [],
   "source": [
    "# download the train and teset datasets\n",
    "!wget http://ufldl.stanford.edu/housenumbers/train_32x32.mat\n",
    "!wget http://ufldl.stanford.edu/housenumbers/test_32x32.mat\n"
   ],
   "metadata": {
    "collapsed": false,
    "pycharm": {
     "name": "#%%\n"
    }
   }
  },
  {
   "cell_type": "code",
   "execution_count": 5,
   "outputs": [
    {
     "name": "stdout",
     "text": [
      "Training images dimensions:  (32, 32, 3, 73257)\nTraining labels dimensions:  (73257, 1)\n",
      "Test images dimensions:  (32, 32, 3, 26032)\nTest labels dimensions:  (26032, 1)\n"
     ],
     "output_type": "stream"
    }
   ],
   "source": [
    "# Load the training data\n",
    "train = loadmat('train_32x32.mat')\n",
    "print(\"Training images dimensions: \", train['X'].shape) # Input Data\n",
    "print(\"Training labels dimensions: \", train['y'].shape) # Labels\n",
    "\n",
    "test = loadmat('test_32x32.mat')\n",
    "print(\"Test images dimensions: \", test['X'].shape)\n",
    "print(\"Test labels dimensions: \", test['y'].shape)"
   ],
   "metadata": {
    "collapsed": false,
    "pycharm": {
     "name": "#%%\n",
     "is_executing": false
    }
   }
  },
  {
   "cell_type": "code",
   "metadata": {
    "id": "0P7LKHe1WllQ",
    "colab_type": "code",
    "colab": {},
    "pycharm": {
     "is_executing": false
    }
   },
   "source": [
    "# Build our custom Dataset\n",
    "import torch\n",
    "from torch.utils.data import Dataset, DataLoader\n",
    "from torch import nn\n",
    "\n",
    "class SVHN_dataset(Dataset):\n",
    "    def __init__(self, data):\n",
    "        # Transform data to Torch Tensors\n",
    "        self.images = torch.tensor(data['X']).permute([3,2,0,1])\n",
    "        self.labels = torch.tensor(data['y'])\n",
    "        self.size = self.labels.shape[0]\n",
    "\n",
    "        # replace label 10 with label 0\n",
    "        self.labels[self.labels==10] = 0\n",
    "\n",
    "        # normalize images to 0..1 range\n",
    "        self.images = self.images.float()/255.0\n",
    "\n",
    "        # print some information about the dataset      \n",
    "        print(\"Label Dimensions: \", self.labels.shape)\n",
    "        print(\"Image Dimensions: \", self.images.shape)\n",
    "        \n",
    "    def __len__(self):\n",
    "        return self.size\n",
    "\n",
    "    def __getitem__(self, idx):\n",
    "        return self.images[idx], self.labels[idx]\n",
    "      \n",
    "        "
   ],
   "execution_count": 6,
   "outputs": []
  },
  {
   "cell_type": "code",
   "metadata": {
    "id": "Q-1IgSKThZLe",
    "colab_type": "code",
    "outputId": "6485f024-db7c-4b4c-b468-39f07f95c641",
    "executionInfo": {
     "status": "ok",
     "timestamp": 1571872433508,
     "user_tz": -120,
     "elapsed": 21010,
     "user": {
      "displayName": "Armin Kappeler",
      "photoUrl": "https://lh3.googleusercontent.com/a-/AAuE7mAyyBGgsBvPtaODx-Mv5MRaJbOgdYl36kNWREWd=s64",
      "userId": "01791136915511492320"
     }
    },
    "colab": {
     "base_uri": "https://localhost:8080/",
     "height": 85
    },
    "pycharm": {
     "is_executing": false
    }
   },
   "source": [
    "# Dataloader\n",
    "train_dataloader = DataLoader(SVHN_dataset(train), batch_size=512,shuffle=True, num_workers=2)\n",
    "test_dataloader = DataLoader(SVHN_dataset(test), batch_size=512,shuffle=False, num_workers=2)"
   ],
   "execution_count": 7,
   "outputs": [
    {
     "name": "stdout",
     "text": [
      "Label Dimensions:  torch.Size([73257, 1])\nImage Dimensions:  torch.Size([73257, 3, 32, 32])\nLabel Dimensions:  torch.Size([26032, 1])\nImage Dimensions:  torch.Size([26032, 3, 32, 32])\n"
     ],
     "output_type": "stream"
    }
   ]
  },
  {
   "cell_type": "code",
   "metadata": {
    "id": "COv_eAnlWln6",
    "colab_type": "code",
    "colab": {},
    "pycharm": {
     "is_executing": false
    }
   },
   "source": [
    "# Build CNN Architecture\n",
    "# Expected accuracy: ~88%\n",
    "class ConvClassifier(nn.Module):\n",
    "\n",
    "    def __init__(self):\n",
    "        super(ConvClassifier,self).__init__()\n",
    "        #Convolution 1\n",
    "        self.conv1=nn.Conv2d(in_channels=3,out_channels=6, kernel_size=5,stride=1, padding=2)\n",
    "        nn.init.normal_(self.conv1.weight, std=0.001)\n",
    "        nn.init.constant_(self.conv1.bias, 0)\n",
    "        self.bn1 = nn.BatchNorm2d(6)\n",
    "        self.relu1= nn.ReLU()\n",
    "        self.maxpool1= nn.MaxPool2d(kernel_size=2,stride=2)\n",
    "\n",
    "        #Convolution 2\n",
    "        self.conv2=nn.Conv2d(in_channels=6,out_channels=12, kernel_size=3,stride=1, padding=1)\n",
    "        nn.init.normal_(self.conv2.weight, std=0.001)\n",
    "        nn.init.constant_(self.conv2.bias, 0)\n",
    "        self.bn2 = nn.BatchNorm2d(12)\n",
    "        self.relu2= nn.ReLU()\n",
    "        self.maxpool2= nn.MaxPool2d(kernel_size=2,stride=2)\n",
    "        \n",
    "        #Convolution 3\n",
    "        self.conv3=nn.Conv2d(in_channels=12,out_channels=24, kernel_size=3,stride=1, padding=1)\n",
    "        nn.init.normal_(self.conv3.weight, std=0.001)\n",
    "        nn.init.constant_(self.conv3.bias, 0)\n",
    "        self.bn3 = nn.BatchNorm2d(24)\n",
    "        self.relu3= nn.ReLU()\n",
    "        self.maxpool3= nn.MaxPool2d(kernel_size=2,stride=2)\n",
    "        \n",
    "        ### fully connected layer\n",
    "        self.fc_input_size = 24*4*4\n",
    "        self.fc4 = nn.Linear(self.fc_input_size, 10)\n",
    "        nn.init.normal_(self.fc4.weight, std=0.001)\n",
    "        nn.init.constant_(self.fc4.bias, 0)\n",
    "        \n",
    "    def forward(self,x):\n",
    "        # conv layer\n",
    "        x = self.conv1(x)\n",
    "        x = self.bn1(x)\n",
    "        x = self.relu1(x)\n",
    "        x = self.maxpool1(x)\n",
    "        \n",
    "        x = self.conv2(x)\n",
    "        x = self.bn2(x)\n",
    "        x = self.relu2(x)\n",
    "        x = self.maxpool2(x)\n",
    "        \n",
    "        x = self.conv3(x)\n",
    "        x = self.bn3(x)\n",
    "        x = self.relu3(x)\n",
    "        x = self.maxpool3(x)\n",
    "        \n",
    "        # final layer\n",
    "        x = x.view(-1, self.fc_input_size)\n",
    "        x = self.fc4(x)\n",
    "        return(x)"
   ],
   "execution_count": 9,
   "outputs": []
  },
  {
   "cell_type": "code",
   "metadata": {
    "id": "Rx4mOGzVkIfb",
    "colab_type": "code",
    "colab": {},
    "pycharm": {
     "is_executing": false
    }
   },
   "source": [
    "# Function to calculate accuracy\n",
    "def get_accuracy(model, dataloader):\n",
    "    model.eval()\n",
    "    correct = 0\n",
    "    total = 0\n",
    "    with torch.no_grad():\n",
    "        for data in dataloader:\n",
    "            images, labels = data\n",
    "            images = images.to('cuda')\n",
    "            labels = labels.squeeze().to('cuda')\n",
    "            outputs = model(images)\n",
    "            _, predicted = torch.max(outputs, 1)\n",
    "            total += labels.size(0)\n",
    "            correct += (predicted == labels).sum().item()\n",
    " \n",
    "    model.train()\n",
    "    return 100 * correct / total\n",
    "    "
   ],
   "execution_count": 10,
   "outputs": []
  },
  {
   "cell_type": "code",
   "metadata": {
    "id": "X7lCu8xJW6Yg",
    "colab_type": "code",
    "outputId": "5dd3d520-1faf-47e2-e15f-271e57b5b382",
    "executionInfo": {
     "status": "ok",
     "timestamp": 1571872637123,
     "user_tz": -120,
     "elapsed": 224612,
     "user": {
      "displayName": "Armin Kappeler",
      "photoUrl": "https://lh3.googleusercontent.com/a-/AAuE7mAyyBGgsBvPtaODx-Mv5MRaJbOgdYl36kNWREWd=s64",
      "userId": "01791136915511492320"
     }
    },
    "colab": {
     "base_uri": "https://localhost:8080/",
     "height": 867
    }
   },
   "source": [
    "# Build Training Loop\n",
    "\n",
    "# create model instance\n",
    "model_conv = ConvClassifier().to('cuda')\n",
    "model_conv.train()\n",
    "\n",
    "# Define loss function\n",
    "loss_fn = torch.nn.CrossEntropyLoss()\n",
    "\n",
    "# Create the optimizer\n",
    "LEARNING_RATE = 0.001\n",
    "optimizer = torch.optim.Adam(model_conv.parameters(), lr=LEARNING_RATE)\n",
    "\n",
    "# Construct the training loop\n",
    "NUM_EPOCHS = 50\n",
    "\n",
    "for j in range(NUM_EPOCHS):   \n",
    "    for i_batch, [images,labels] in enumerate(train_dataloader):\n",
    "        images = images.to('cuda')\n",
    "        labels = labels.to('cuda')\n",
    "        optimizer.zero_grad() # Clear out accumulated gradients\n",
    "        output = model_conv(images) # forward pass\n",
    "        loss = loss_fn(output, (labels.long()).squeeze()) # calculate loss\n",
    "        loss.backward() # Compute gradients\n",
    "        optimizer.step() # Update model parameters\n",
    "\n",
    "    if j % 1 == 0:\n",
    "        accucacy = get_accuracy(model_conv,test_dataloader)\n",
    "        print(\"Epoch\", j, \"Training Loss: \", loss.item(), \"Test Accuracy: \", accucacy) \n",
    "\n",
    "        \n"
   ],
   "execution_count": 0,
   "outputs": [
    {
     "output_type": "stream",
     "text": [
      "Epoch 0 Training Loss:  0.7184999585151672 Test Accuracy:  76.61339889366933\n",
      "Epoch 1 Training Loss:  0.29304394125938416 Test Accuracy:  81.94913952059004\n",
      "Epoch 2 Training Loss:  0.45561110973358154 Test Accuracy:  83.25522433927473\n",
      "Epoch 3 Training Loss:  0.3482583165168762 Test Accuracy:  80.58927473878303\n",
      "Epoch 4 Training Loss:  0.43878066539764404 Test Accuracy:  79.37922556853104\n",
      "Epoch 5 Training Loss:  0.41502606868743896 Test Accuracy:  84.76490473263675\n",
      "Epoch 6 Training Loss:  0.28234079480171204 Test Accuracy:  86.36293792255685\n",
      "Epoch 7 Training Loss:  0.28942573070526123 Test Accuracy:  85.04148740012293\n",
      "Epoch 8 Training Loss:  0.31419554352760315 Test Accuracy:  86.9199446834665\n",
      "Epoch 9 Training Loss:  0.27660244703292847 Test Accuracy:  87.24262446220037\n",
      "Epoch 10 Training Loss:  0.3491206765174866 Test Accuracy:  86.8700061462815\n",
      "Epoch 11 Training Loss:  0.7565778493881226 Test Accuracy:  86.6279963122311\n",
      "Epoch 12 Training Loss:  0.24152295291423798 Test Accuracy:  87.58835279655808\n",
      "Epoch 13 Training Loss:  0.39772704243659973 Test Accuracy:  88.3758451137062\n",
      "Epoch 14 Training Loss:  0.6442708969116211 Test Accuracy:  87.72280270436386\n",
      "Epoch 15 Training Loss:  0.28212636709213257 Test Accuracy:  81.43438844499079\n",
      "Epoch 16 Training Loss:  0.29853132367134094 Test Accuracy:  87.81499692685925\n",
      "Epoch 17 Training Loss:  0.4238819479942322 Test Accuracy:  85.92501536570374\n",
      "Epoch 18 Training Loss:  0.25134706497192383 Test Accuracy:  88.34895513214505\n",
      "Epoch 19 Training Loss:  0.26189178228378296 Test Accuracy:  86.68177627535341\n",
      "Epoch 20 Training Loss:  0.24830763041973114 Test Accuracy:  88.48724646588813\n",
      "Epoch 21 Training Loss:  0.31872302293777466 Test Accuracy:  87.24646588813768\n",
      "Epoch 22 Training Loss:  0.33906272053718567 Test Accuracy:  86.2438537185003\n",
      "Epoch 23 Training Loss:  0.21580709517002106 Test Accuracy:  88.29901659496005\n",
      "Epoch 24 Training Loss:  0.29126542806625366 Test Accuracy:  87.51920712968654\n",
      "Epoch 25 Training Loss:  0.42449215054512024 Test Accuracy:  87.96865396435157\n",
      "Epoch 26 Training Loss:  0.3394916355609894 Test Accuracy:  88.52566072526122\n",
      "Epoch 27 Training Loss:  0.272739976644516 Test Accuracy:  87.71127842655194\n",
      "Epoch 28 Training Loss:  0.239080011844635 Test Accuracy:  88.54102642901044\n",
      "Epoch 29 Training Loss:  0.1171376183629036 Test Accuracy:  88.40273509526736\n",
      "Epoch 30 Training Loss:  0.2264716476202011 Test Accuracy:  88.55639213275968\n",
      "Epoch 31 Training Loss:  0.1812872737646103 Test Accuracy:  88.3720036877689\n",
      "Epoch 32 Training Loss:  0.22221125662326813 Test Accuracy:  88.28365089121081\n",
      "Epoch 33 Training Loss:  0.3532654941082001 Test Accuracy:  88.29517516902274\n",
      "Epoch 34 Training Loss:  0.11734139174222946 Test Accuracy:  89.1902274124155\n",
      "Epoch 35 Training Loss:  0.33788543939590454 Test Accuracy:  88.69084204056546\n",
      "Epoch 36 Training Loss:  0.3910355865955353 Test Accuracy:  88.20298094652735\n",
      "Epoch 37 Training Loss:  0.2649071514606476 Test Accuracy:  85.88275968039336\n",
      "Epoch 38 Training Loss:  0.0691983625292778 Test Accuracy:  89.23632452366319\n",
      "Epoch 39 Training Loss:  0.3424948453903198 Test Accuracy:  88.25291948371235\n",
      "Epoch 40 Training Loss:  0.2895326316356659 Test Accuracy:  87.78042409342348\n",
      "Epoch 41 Training Loss:  0.15664546191692352 Test Accuracy:  88.09926244622004\n",
      "Epoch 42 Training Loss:  0.4432138204574585 Test Accuracy:  87.68438844499079\n",
      "Epoch 43 Training Loss:  0.18682900071144104 Test Accuracy:  88.68700061462815\n",
      "Epoch 44 Training Loss:  0.6664836406707764 Test Accuracy:  83.50107559926245\n",
      "Epoch 45 Training Loss:  0.3543666899204254 Test Accuracy:  88.21450522433928\n",
      "Epoch 46 Training Loss:  0.157077357172966 Test Accuracy:  89.04041180086048\n",
      "Epoch 47 Training Loss:  0.2750633656978607 Test Accuracy:  87.76505838967425\n",
      "Epoch 48 Training Loss:  0.3736209273338318 Test Accuracy:  88.12231100184388\n",
      "Epoch 49 Training Loss:  0.22661134600639343 Test Accuracy:  88.63706207744315\n"
     ],
     "name": "stdout"
    }
   ]
  },
  {
   "cell_type": "code",
   "metadata": {
    "id": "EBq90Ez-WWUV",
    "colab_type": "code",
    "outputId": "db969427-bc4b-4a7c-fef7-dc05a9098141",
    "executionInfo": {
     "status": "ok",
     "timestamp": 1571872638394,
     "user_tz": -120,
     "elapsed": 225878,
     "user": {
      "displayName": "Armin Kappeler",
      "photoUrl": "https://lh3.googleusercontent.com/a-/AAuE7mAyyBGgsBvPtaODx-Mv5MRaJbOgdYl36kNWREWd=s64",
      "userId": "01791136915511492320"
     }
    },
    "colab": {
     "base_uri": "https://localhost:8080/",
     "height": 1000
    }
   },
   "source": [
    "# Run Inference\n",
    "\n",
    "# evaluate the model on an example batch\n",
    "images,labels = next(iter(test_dataloader))\n",
    "images = images.to('cuda')\n",
    "labels = labels.to('cuda')\n",
    "model_conv.eval()\n",
    "with torch.no_grad():\n",
    "  outputs = model_conv(images)\n",
    "\n",
    "# Display Result\n",
    "num_samples = 10\n",
    "train_size = train['X'].shape[0]\n",
    "for i in range(5):\n",
    "    im = images[i].cpu().permute(1,2,0).numpy()\n",
    "    lbl = labels[i].cpu().numpy().squeeze()\n",
    "    _,pred = torch.max(outputs[i],0)\n",
    "    pred = pred.cpu().numpy()\n",
    "    \n",
    "    print(\"True Label: \", lbl, \" Predicted Label: \",pred  )\n",
    "    imshow(im)\n",
    "    show()\n",
    "    print(\"-------------\")"
   ],
   "execution_count": 0,
   "outputs": [
    {
     "output_type": "stream",
     "text": [
      "True Label:  5  Predicted Label:  5\n"
     ],
     "name": "stdout"
    },
    {
     "output_type": "display_data",
     "data": {
      "image/png": "[encoded data removed]",
      "text/plain": [
       "<Figure size 432x288 with 1 Axes>"
      ]
     },
     "metadata": {
      "tags": []
     }
    },
    {
     "output_type": "stream",
     "text": [
      "-------------\n",
      "True Label:  2  Predicted Label:  2\n"
     ],
     "name": "stdout"
    },
    {
     "output_type": "display_data",
     "data": {
      "image/png": "[encoded data removed]",
      "text/plain": [
       "<Figure size 432x288 with 1 Axes>"
      ]
     },
     "metadata": {
      "tags": []
     }
    },
    {
     "output_type": "stream",
     "text": [
      "-------------\n",
      "True Label:  1  Predicted Label:  1\n"
     ],
     "name": "stdout"
    },
    {
     "output_type": "display_data",
     "data": {
      "image/png": "[encoded data removed]",
      "text/plain": [
       "<Figure size 432x288 with 1 Axes>"
      ]
     },
     "metadata": {
      "tags": []
     }
    },
    {
     "output_type": "stream",
     "text": [
      "-------------\n",
      "True Label:  0  Predicted Label:  0\n"
     ],
     "name": "stdout"
    },
    {
     "output_type": "display_data",
     "data": {
      "image/png": "[encoded data removed]",
      "text/plain": [
       "<Figure size 432x288 with 1 Axes>"
      ]
     },
     "metadata": {
      "tags": []
     }
    },
    {
     "output_type": "stream",
     "text": [
      "-------------\n",
      "True Label:  6  Predicted Label:  6\n"
     ],
     "name": "stdout"
    },
    {
     "output_type": "display_data",
     "data": {
      "image/png": "[encoded data removed]",
      "text/plain": [
       "<Figure size 432x288 with 1 Axes>"
      ]
     },
     "metadata": {
      "tags": []
     }
    },
    {
     "output_type": "stream",
     "text": [
      "-------------\n"
     ],
     "name": "stdout"
    }
   ]
  }
 ]
}